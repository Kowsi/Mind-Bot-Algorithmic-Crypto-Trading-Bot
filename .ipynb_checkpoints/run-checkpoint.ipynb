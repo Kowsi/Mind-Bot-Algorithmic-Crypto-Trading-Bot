{
 "cells": [
  {
   "cell_type": "markdown",
   "metadata": {},
   "source": [
    "# Run the applicaton"
   ]
  },
  {
   "cell_type": "code",
   "execution_count": null,
   "metadata": {},
   "outputs": [],
   "source": [
    "%run -i app.py"
   ]
  },
  {
   "cell_type": "code",
   "execution_count": null,
   "metadata": {},
   "outputs": [],
   "source": [
    "!python app.py"
   ]
  },
  {
   "cell_type": "markdown",
   "metadata": {},
   "source": [
    "# Data Source - Kraken"
   ]
  },
  {
   "cell_type": "code",
   "execution_count": 32,
   "metadata": {},
   "outputs": [],
   "source": [
    "import crypto_stream"
   ]
  },
  {
   "cell_type": "code",
   "execution_count": null,
   "metadata": {},
   "outputs": [],
   "source": [
    "crypto_stream.fetch_historical_data(crypto='BTC/USD', interval='1m', no_of_data=720)"
   ]
  },
  {
   "cell_type": "code",
   "execution_count": null,
   "metadata": {},
   "outputs": [],
   "source": [
    "crypto_stream.fetch_historical_data(crypto='BTC/USD', interval='1w', limit=720)"
   ]
  },
  {
   "cell_type": "code",
   "execution_count": 33,
   "metadata": {},
   "outputs": [],
   "source": [
    "df = crypto_stream.get_data_from_table()"
   ]
  },
  {
   "cell_type": "code",
   "execution_count": 82,
   "metadata": {},
   "outputs": [],
   "source": [
    "df_1 = df.reset_index()\n",
    "df_1.loc[-1:,['volume']] = 0.0"
   ]
  },
  {
   "cell_type": "code",
   "execution_count": 84,
   "metadata": {},
   "outputs": [
    {
     "data": {
      "text/html": [
       "<div>\n",
       "<style scoped>\n",
       "    .dataframe tbody tr th:only-of-type {\n",
       "        vertical-align: middle;\n",
       "    }\n",
       "\n",
       "    .dataframe tbody tr th {\n",
       "        vertical-align: top;\n",
       "    }\n",
       "\n",
       "    .dataframe thead th {\n",
       "        text-align: right;\n",
       "    }\n",
       "</style>\n",
       "<table border=\"1\" class=\"dataframe\">\n",
       "  <thead>\n",
       "    <tr style=\"text-align: right;\">\n",
       "      <th></th>\n",
       "      <th>date</th>\n",
       "      <th>open</th>\n",
       "      <th>high</th>\n",
       "      <th>low</th>\n",
       "      <th>close</th>\n",
       "      <th>volume</th>\n",
       "    </tr>\n",
       "  </thead>\n",
       "  <tbody>\n",
       "    <tr>\n",
       "      <th>0</th>\n",
       "      <td>2020-07-18 20:09:48.443000-04:00</td>\n",
       "      <td>9174.1</td>\n",
       "      <td>9208.9</td>\n",
       "      <td>9123.0</td>\n",
       "      <td>9181.3</td>\n",
       "      <td>0.0</td>\n",
       "    </tr>\n",
       "    <tr>\n",
       "      <th>1</th>\n",
       "      <td>2020-07-18 20:09:47.495000-04:00</td>\n",
       "      <td>9174.1</td>\n",
       "      <td>9208.9</td>\n",
       "      <td>9123.0</td>\n",
       "      <td>9181.3</td>\n",
       "      <td>0.0</td>\n",
       "    </tr>\n",
       "    <tr>\n",
       "      <th>2</th>\n",
       "      <td>2020-07-18 20:09:46.623000-04:00</td>\n",
       "      <td>9174.1</td>\n",
       "      <td>9208.9</td>\n",
       "      <td>9123.0</td>\n",
       "      <td>9181.3</td>\n",
       "      <td>0.0</td>\n",
       "    </tr>\n",
       "    <tr>\n",
       "      <th>3</th>\n",
       "      <td>2020-07-18 20:09:45.461000-04:00</td>\n",
       "      <td>9174.1</td>\n",
       "      <td>9208.9</td>\n",
       "      <td>9123.0</td>\n",
       "      <td>9181.3</td>\n",
       "      <td>0.0</td>\n",
       "    </tr>\n",
       "    <tr>\n",
       "      <th>4</th>\n",
       "      <td>2020-07-18 20:09:44.511000-04:00</td>\n",
       "      <td>9174.1</td>\n",
       "      <td>9208.9</td>\n",
       "      <td>9123.0</td>\n",
       "      <td>9181.3</td>\n",
       "      <td>0.0</td>\n",
       "    </tr>\n",
       "    <tr>\n",
       "      <th>...</th>\n",
       "      <td>...</td>\n",
       "      <td>...</td>\n",
       "      <td>...</td>\n",
       "      <td>...</td>\n",
       "      <td>...</td>\n",
       "      <td>...</td>\n",
       "    </tr>\n",
       "    <tr>\n",
       "      <th>95</th>\n",
       "      <td>2020-07-18 20:08:03.195000-04:00</td>\n",
       "      <td>9174.1</td>\n",
       "      <td>9208.9</td>\n",
       "      <td>9123.0</td>\n",
       "      <td>9181.3</td>\n",
       "      <td>0.0</td>\n",
       "    </tr>\n",
       "    <tr>\n",
       "      <th>96</th>\n",
       "      <td>2020-07-18 20:08:00.837000-04:00</td>\n",
       "      <td>9174.1</td>\n",
       "      <td>9208.9</td>\n",
       "      <td>9123.0</td>\n",
       "      <td>9181.3</td>\n",
       "      <td>0.0</td>\n",
       "    </tr>\n",
       "    <tr>\n",
       "      <th>97</th>\n",
       "      <td>2020-07-18 20:07:57.039000-04:00</td>\n",
       "      <td>9174.1</td>\n",
       "      <td>9208.9</td>\n",
       "      <td>9123.0</td>\n",
       "      <td>9181.3</td>\n",
       "      <td>0.0</td>\n",
       "    </tr>\n",
       "    <tr>\n",
       "      <th>98</th>\n",
       "      <td>2020-07-18 20:07:54.103000-04:00</td>\n",
       "      <td>9174.1</td>\n",
       "      <td>9208.9</td>\n",
       "      <td>9123.0</td>\n",
       "      <td>9181.3</td>\n",
       "      <td>0.0</td>\n",
       "    </tr>\n",
       "    <tr>\n",
       "      <th>99</th>\n",
       "      <td>2020-07-18 20:07:51.618000-04:00</td>\n",
       "      <td>9174.1</td>\n",
       "      <td>9208.9</td>\n",
       "      <td>9123.0</td>\n",
       "      <td>9181.3</td>\n",
       "      <td>0.0</td>\n",
       "    </tr>\n",
       "  </tbody>\n",
       "</table>\n",
       "<p>100 rows × 6 columns</p>\n",
       "</div>"
      ],
      "text/plain": [
       "                               date    open    high     low   close  volume\n",
       "0  2020-07-18 20:09:48.443000-04:00  9174.1  9208.9  9123.0  9181.3     0.0\n",
       "1  2020-07-18 20:09:47.495000-04:00  9174.1  9208.9  9123.0  9181.3     0.0\n",
       "2  2020-07-18 20:09:46.623000-04:00  9174.1  9208.9  9123.0  9181.3     0.0\n",
       "3  2020-07-18 20:09:45.461000-04:00  9174.1  9208.9  9123.0  9181.3     0.0\n",
       "4  2020-07-18 20:09:44.511000-04:00  9174.1  9208.9  9123.0  9181.3     0.0\n",
       "..                              ...     ...     ...     ...     ...     ...\n",
       "95 2020-07-18 20:08:03.195000-04:00  9174.1  9208.9  9123.0  9181.3     0.0\n",
       "96 2020-07-18 20:08:00.837000-04:00  9174.1  9208.9  9123.0  9181.3     0.0\n",
       "97 2020-07-18 20:07:57.039000-04:00  9174.1  9208.9  9123.0  9181.3     0.0\n",
       "98 2020-07-18 20:07:54.103000-04:00  9174.1  9208.9  9123.0  9181.3     0.0\n",
       "99 2020-07-18 20:07:51.618000-04:00  9174.1  9208.9  9123.0  9181.3     0.0\n",
       "\n",
       "[100 rows x 6 columns]"
      ]
     },
     "execution_count": 84,
     "metadata": {},
     "output_type": "execute_result"
    }
   ],
   "source": [
    "df_1"
   ]
  },
  {
   "cell_type": "markdown",
   "metadata": {},
   "source": [
    "# Backtesting"
   ]
  },
  {
   "cell_type": "code",
   "execution_count": null,
   "metadata": {},
   "outputs": [],
   "source": [
    "import backtesting"
   ]
  },
  {
   "cell_type": "code",
   "execution_count": null,
   "metadata": {},
   "outputs": [],
   "source": [
    "backtesting.MODEL_LIST"
   ]
  },
  {
   "cell_type": "code",
   "execution_count": null,
   "metadata": {},
   "outputs": [],
   "source": [
    "portfolio_metrics, trade_metrics, portfolio_evaluation = backtesting.main('BTC/USD', backtesting.MODEL_LIST[1], '1d', inital_capital=100000.0, no_of_shares=10)"
   ]
  },
  {
   "cell_type": "code",
   "execution_count": null,
   "metadata": {},
   "outputs": [],
   "source": [
    "trade_metrics"
   ]
  },
  {
   "cell_type": "markdown",
   "metadata": {},
   "source": [
    "# Create Requirements.txt"
   ]
  },
  {
   "cell_type": "code",
   "execution_count": 89,
   "metadata": {},
   "outputs": [
    {
     "name": "stdout",
     "output_type": "stream",
     "text": [
      "Collecting pipreqs\n",
      "  Downloading pipreqs-0.4.10-py2.py3-none-any.whl (25 kB)\n",
      "Collecting docopt\n",
      "  Downloading docopt-0.6.2.tar.gz (25 kB)\n",
      "Collecting yarg\n",
      "  Downloading yarg-0.1.9-py2.py3-none-any.whl (19 kB)\n",
      "Requirement already satisfied: requests in /Users/Kowsalya/opt/anaconda3/envs/dev/lib/python3.7/site-packages (from yarg->pipreqs) (2.23.0)\n",
      "Requirement already satisfied: idna<3,>=2.5 in /Users/Kowsalya/opt/anaconda3/envs/dev/lib/python3.7/site-packages (from requests->yarg->pipreqs) (2.9)\n",
      "Requirement already satisfied: chardet<4,>=3.0.2 in /Users/Kowsalya/opt/anaconda3/envs/dev/lib/python3.7/site-packages (from requests->yarg->pipreqs) (3.0.4)\n",
      "Requirement already satisfied: urllib3!=1.25.0,!=1.25.1,<1.26,>=1.21.1 in /Users/Kowsalya/opt/anaconda3/envs/dev/lib/python3.7/site-packages (from requests->yarg->pipreqs) (1.25.8)\n",
      "Requirement already satisfied: certifi>=2017.4.17 in /Users/Kowsalya/opt/anaconda3/envs/dev/lib/python3.7/site-packages (from requests->yarg->pipreqs) (2020.6.20)\n",
      "Building wheels for collected packages: docopt\n",
      "  Building wheel for docopt (setup.py) ... \u001b[?25ldone\n",
      "\u001b[?25h  Created wheel for docopt: filename=docopt-0.6.2-py2.py3-none-any.whl size=13704 sha256=b33745214d3ad1dd137fe3c35f290a9dac0a7f5596f58a39c57a3f53fcc35924\n",
      "  Stored in directory: /Users/Kowsalya/Library/Caches/pip/wheels/72/b0/3f/1d95f96ff986c7dfffe46ce2be4062f38ebd04b506c77c81b9\n",
      "Successfully built docopt\n",
      "Installing collected packages: docopt, yarg, pipreqs\n",
      "Successfully installed docopt-0.6.2 pipreqs-0.4.10 yarg-0.1.9\n"
     ]
    }
   ],
   "source": [
    "!pip install pipreqs"
   ]
  },
  {
   "cell_type": "code",
   "execution_count": 90,
   "metadata": {},
   "outputs": [
    {
     "name": "stdout",
     "output_type": "stream",
     "text": [
      "INFO: Successfully saved requirements file in ./requirements.txt\n"
     ]
    }
   ],
   "source": [
    "!pipreqs ."
   ]
  },
  {
   "cell_type": "code",
   "execution_count": null,
   "metadata": {},
   "outputs": [],
   "source": [
    "# While deloying in Heroku\n",
    "Install TA-Lib through buildback\n",
    "heroku buildpacks:add --index 2 https://github.com/numrut/heroku-buildpack-python-talib\n",
    "Makesure to remove TA-Lib from Requirements.txt\n",
    "Add gunicorn==19.9.0 in requirements.txt"
   ]
  }
 ],
 "metadata": {
  "kernelspec": {
   "display_name": "Python 3",
   "language": "python",
   "name": "python3"
  },
  "language_info": {
   "codemirror_mode": {
    "name": "ipython",
    "version": 3
   },
   "file_extension": ".py",
   "mimetype": "text/x-python",
   "name": "python",
   "nbconvert_exporter": "python",
   "pygments_lexer": "ipython3",
   "version": "3.7.7"
  }
 },
 "nbformat": 4,
 "nbformat_minor": 4
}
